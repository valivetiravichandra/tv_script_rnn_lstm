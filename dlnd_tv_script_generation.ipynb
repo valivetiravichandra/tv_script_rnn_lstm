{
 "cells": [
  {
   "cell_type": "markdown",
   "metadata": {},
   "source": [
    "# TV Script Generation\n",
    "In this project, you'll generate your own [Simpsons](https://en.wikipedia.org/wiki/The_Simpsons) TV scripts using RNNs.  You'll be using part of the [Simpsons dataset](https://www.kaggle.com/wcukierski/the-simpsons-by-the-data) of scripts from 27 seasons.  The Neural Network you'll build will generate a new TV script for a scene at [Moe's Tavern](https://simpsonswiki.com/wiki/Moe's_Tavern).\n",
    "## Get the Data\n",
    "The data is already provided for you.  You'll be using a subset of the original dataset.  It consists of only the scenes in Moe's Tavern.  This doesn't include other versions of the tavern, like \"Moe's Cavern\", \"Flaming Moe's\", \"Uncle Moe's Family Feed-Bag\", etc.."
   ]
  },
  {
   "cell_type": "code",
   "execution_count": 1,
   "metadata": {
    "collapsed": true
   },
   "outputs": [],
   "source": [
    "\"\"\"\n",
    "DON'T MODIFY ANYTHING IN THIS CELL\n",
    "\"\"\"\n",
    "import helper\n",
    "\n",
    "data_dir = './data/simpsons/moes_tavern_lines.txt'\n",
    "text = helper.load_data(data_dir)\n",
    "# Ignore notice, since we don't use it for analysing the data\n",
    "text = text[81:]"
   ]
  },
  {
   "cell_type": "markdown",
   "metadata": {},
   "source": [
    "## Explore the Data\n",
    "Play around with `view_sentence_range` to view different parts of the data."
   ]
  },
  {
   "cell_type": "code",
   "execution_count": 2,
   "metadata": {},
   "outputs": [
    {
     "name": "stdout",
     "output_type": "stream",
     "text": [
      "Dataset Stats\n",
      "Roughly the number of unique words: 11492\n",
      "Number of scenes: 262\n",
      "Average number of sentences in each scene: 15.248091603053435\n",
      "Number of lines: 4257\n",
      "Average number of words in each line: 11.50434578341555\n",
      "\n",
      "The sentences 0 to 10:\n",
      "Moe_Szyslak: (INTO PHONE) Moe's Tavern. Where the elite meet to drink.\n",
      "Bart_Simpson: Eh, yeah, hello, is Mike there? Last name, Rotch.\n",
      "Moe_Szyslak: (INTO PHONE) Hold on, I'll check. (TO BARFLIES) Mike Rotch. Mike Rotch. Hey, has anybody seen Mike Rotch, lately?\n",
      "Moe_Szyslak: (INTO PHONE) Listen you little puke. One of these days I'm gonna catch you, and I'm gonna carve my name on your back with an ice pick.\n",
      "Moe_Szyslak: What's the matter Homer? You're not your normal effervescent self.\n",
      "Homer_Simpson: I got my problems, Moe. Give me another one.\n",
      "Moe_Szyslak: Homer, hey, you should not drink to forget your problems.\n",
      "Barney_Gumble: Yeah, you should only drink to enhance your social skills.\n",
      "\n",
      "\n"
     ]
    }
   ],
   "source": [
    "view_sentence_range = (0, 10)\n",
    "\n",
    "\"\"\"\n",
    "DON'T MODIFY ANYTHING IN THIS CELL\n",
    "\"\"\"\n",
    "import numpy as np\n",
    "\n",
    "print('Dataset Stats')\n",
    "print('Roughly the number of unique words: {}'.format(len({word: None for word in text.split()})))\n",
    "scenes = text.split('\\n\\n')\n",
    "print('Number of scenes: {}'.format(len(scenes)))\n",
    "sentence_count_scene = [scene.count('\\n') for scene in scenes]\n",
    "print('Average number of sentences in each scene: {}'.format(np.average(sentence_count_scene)))\n",
    "\n",
    "sentences = [sentence for scene in scenes for sentence in scene.split('\\n')]\n",
    "print('Number of lines: {}'.format(len(sentences)))\n",
    "word_count_sentence = [len(sentence.split()) for sentence in sentences]\n",
    "print('Average number of words in each line: {}'.format(np.average(word_count_sentence)))\n",
    "\n",
    "print()\n",
    "print('The sentences {} to {}:'.format(*view_sentence_range))\n",
    "print('\\n'.join(text.split('\\n')[view_sentence_range[0]:view_sentence_range[1]]))"
   ]
  },
  {
   "cell_type": "markdown",
   "metadata": {},
   "source": [
    "## Implement Preprocessing Functions\n",
    "The first thing to do to any dataset is preprocessing.  Implement the following preprocessing functions below:\n",
    "- Lookup Table\n",
    "- Tokenize Punctuation\n",
    "\n",
    "### Lookup Table\n",
    "To create a word embedding, you first need to transform the words to ids.  In this function, create two dictionaries:\n",
    "- Dictionary to go from the words to an id, we'll call `vocab_to_int`\n",
    "- Dictionary to go from the id to word, we'll call `int_to_vocab`\n",
    "\n",
    "Return these dictionaries in the following tuple `(vocab_to_int, int_to_vocab)`"
   ]
  },
  {
   "cell_type": "code",
   "execution_count": 3,
   "metadata": {},
   "outputs": [
    {
     "name": "stdout",
     "output_type": "stream",
     "text": [
      "Tests Passed\n"
     ]
    }
   ],
   "source": [
    "import numpy as np\n",
    "import problem_unittests as tests\n",
    "\n",
    "def create_lookup_tables(text):\n",
    "    \"\"\"\n",
    "    Create lookup tables for vocabulary\n",
    "    :param text: The text of tv scripts split into words\n",
    "    :return: A tuple of dicts (vocab_to_int, int_to_vocab)\n",
    "    \"\"\"\n",
    "    # TODO: Implement Function\n",
    "    vocab_to_int={}\n",
    "    int_to_vocab={}\n",
    "    for i,word in enumerate(set(text)):\n",
    "        vocab_to_int[word]=i\n",
    "        int_to_vocab[i]=word\n",
    "    return vocab_to_int,int_to_vocab\n",
    "\n",
    "\n",
    "\"\"\"\n",
    "DON'T MODIFY ANYTHING IN THIS CELL THAT IS BELOW THIS LINE\n",
    "\"\"\"\n",
    "tests.test_create_lookup_tables(create_lookup_tables)"
   ]
  },
  {
   "cell_type": "markdown",
   "metadata": {},
   "source": [
    "### Tokenize Punctuation\n",
    "We'll be splitting the script into a word array using spaces as delimiters.  However, punctuations like periods and exclamation marks make it hard for the neural network to distinguish between the word \"bye\" and \"bye!\".\n",
    "\n",
    "Implement the function `token_lookup` to return a dict that will be used to tokenize symbols like \"!\" into \"||Exclamation_Mark||\".  Create a dictionary for the following symbols where the symbol is the key and value is the token:\n",
    "- Period ( . )\n",
    "- Comma ( , )\n",
    "- Quotation Mark ( \" )\n",
    "- Semicolon ( ; )\n",
    "- Exclamation mark ( ! )\n",
    "- Question mark ( ? )\n",
    "- Left Parentheses ( ( )\n",
    "- Right Parentheses ( ) )\n",
    "- Dash ( -- )\n",
    "- Return ( \\n )\n",
    "\n",
    "This dictionary will be used to token the symbols and add the delimiter (space) around it.  This separates the symbols as it's own word, making it easier for the neural network to predict on the next word. Make sure you don't use a token that could be confused as a word. Instead of using the token \"dash\", try using something like \"||dash||\"."
   ]
  },
  {
   "cell_type": "code",
   "execution_count": 4,
   "metadata": {},
   "outputs": [
    {
     "name": "stdout",
     "output_type": "stream",
     "text": [
      "Tests Passed\n"
     ]
    }
   ],
   "source": [
    "def token_lookup():\n",
    "    \"\"\"\n",
    "    Generate a dict to turn punctuation into a token.\n",
    "    :return: Tokenize dictionary where the key is the punctuation and the value is the token\n",
    "    \"\"\"\n",
    "    token_dict = {\".\":\"||period||\", \",\":\"||comma||\", \";\":\"||semicolon||\", \"?\":\"||questionmark||\", \"(\":\"||leftparen||\", \")\":\"||rightparen||\", \"--\":\"||dash||\", \"\\n\":\"||return||\", '!':'||exclam||', '\"':'||quot||'}\n",
    "    # TODO: Implement Function\n",
    "    return token_dict\n",
    "\n",
    "\"\"\"\n",
    "DON'T MODIFY ANYTHING IN THIS CELL THAT IS BELOW THIS LINE\n",
    "\"\"\"\n",
    "tests.test_tokenize(token_lookup)"
   ]
  },
  {
   "cell_type": "markdown",
   "metadata": {},
   "source": [
    "## Preprocess all the data and save it\n",
    "Running the code cell below will preprocess all the data and save it to file."
   ]
  },
  {
   "cell_type": "code",
   "execution_count": 5,
   "metadata": {
    "collapsed": true
   },
   "outputs": [],
   "source": [
    "\"\"\"\n",
    "DON'T MODIFY ANYTHING IN THIS CELL\n",
    "\"\"\"\n",
    "# Preprocess Training, Validation, and Testing Data\n",
    "helper.preprocess_and_save_data(data_dir, token_lookup, create_lookup_tables)"
   ]
  },
  {
   "cell_type": "markdown",
   "metadata": {},
   "source": [
    "# Check Point\n",
    "This is your first checkpoint. If you ever decide to come back to this notebook or have to restart the notebook, you can start from here. The preprocessed data has been saved to disk."
   ]
  },
  {
   "cell_type": "code",
   "execution_count": 6,
   "metadata": {
    "collapsed": true
   },
   "outputs": [],
   "source": [
    "\"\"\"\n",
    "DON'T MODIFY ANYTHING IN THIS CELL\n",
    "\"\"\"\n",
    "import helper\n",
    "import numpy as np\n",
    "import problem_unittests as tests\n",
    "\n",
    "int_text, vocab_to_int, int_to_vocab, token_dict = helper.load_preprocess()"
   ]
  },
  {
   "cell_type": "markdown",
   "metadata": {},
   "source": [
    "## Build the Neural Network\n",
    "You'll build the components necessary to build a RNN by implementing the following functions below:\n",
    "- get_inputs\n",
    "- get_init_cell\n",
    "- get_embed\n",
    "- build_rnn\n",
    "- build_nn\n",
    "- get_batches\n",
    "\n",
    "### Check the Version of TensorFlow and Access to GPU"
   ]
  },
  {
   "cell_type": "code",
   "execution_count": 7,
   "metadata": {},
   "outputs": [
    {
     "name": "stdout",
     "output_type": "stream",
     "text": [
      "TensorFlow Version: 1.1.0\n",
      "Default GPU Device: /gpu:0\n"
     ]
    }
   ],
   "source": [
    "\"\"\"\n",
    "DON'T MODIFY ANYTHING IN THIS CELL\n",
    "\"\"\"\n",
    "from distutils.version import LooseVersion\n",
    "import warnings\n",
    "import tensorflow as tf\n",
    "\n",
    "# Check TensorFlow Version\n",
    "assert LooseVersion(tf.__version__) >= LooseVersion('1.0'), 'Please use TensorFlow version 1.0 or newer'\n",
    "print('TensorFlow Version: {}'.format(tf.__version__))\n",
    "\n",
    "# Check for a GPU\n",
    "if not tf.test.gpu_device_name():\n",
    "    warnings.warn('No GPU found. Please use a GPU to train your neural network.')\n",
    "else:\n",
    "    print('Default GPU Device: {}'.format(tf.test.gpu_device_name()))"
   ]
  },
  {
   "cell_type": "markdown",
   "metadata": {},
   "source": [
    "### Input\n",
    "Implement the `get_inputs()` function to create TF Placeholders for the Neural Network.  It should create the following placeholders:\n",
    "- Input text placeholder named \"input\" using the [TF Placeholder](https://www.tensorflow.org/api_docs/python/tf/placeholder) `name` parameter.\n",
    "- Targets placeholder\n",
    "- Learning Rate placeholder\n",
    "\n",
    "Return the placeholders in the following tuple `(Input, Targets, LearningRate)`"
   ]
  },
  {
   "cell_type": "code",
   "execution_count": 17,
   "metadata": {},
   "outputs": [
    {
     "name": "stdout",
     "output_type": "stream",
     "text": [
      "Tests Passed\n"
     ]
    }
   ],
   "source": [
    "def get_inputs():\n",
    "    \"\"\"\n",
    "    Create TF Placeholders for input, targets, and learning rate.\n",
    "    :return: Tuple (input, targets, learning rate)\n",
    "    \"\"\"\n",
    "    # TODO: Implement Function\n",
    "    input_ = tf.placeholder(tf.int32, [None, None], name = 'input')\n",
    "    targets = tf.placeholder(tf.int32, [None, None], name = 'targets')\n",
    "    learning_rate = tf.placeholder(tf.float32, name='learning_rate')\n",
    "    return input_, targets, learning_rate\n",
    "\n",
    "\n",
    "\"\"\"\n",
    "DON'T MODIFY ANYTHING IN THIS CELL THAT IS BELOW THIS LINE\n",
    "\"\"\"\n",
    "tests.test_get_inputs(get_inputs)"
   ]
  },
  {
   "cell_type": "markdown",
   "metadata": {},
   "source": [
    "### Build RNN Cell and Initialize\n",
    "Stack one or more [`BasicLSTMCells`](https://www.tensorflow.org/api_docs/python/tf/contrib/rnn/BasicLSTMCell) in a [`MultiRNNCell`](https://www.tensorflow.org/api_docs/python/tf/contrib/rnn/MultiRNNCell).\n",
    "- The Rnn size should be set using `rnn_size`\n",
    "- Initalize Cell State using the MultiRNNCell's [`zero_state()`](https://www.tensorflow.org/api_docs/python/tf/contrib/rnn/MultiRNNCell#zero_state) function\n",
    "    - Apply the name \"initial_state\" to the initial state using [`tf.identity()`](https://www.tensorflow.org/api_docs/python/tf/identity)\n",
    "\n",
    "Return the cell and initial state in the following tuple `(Cell, InitialState)`"
   ]
  },
  {
   "cell_type": "code",
   "execution_count": 18,
   "metadata": {},
   "outputs": [
    {
     "name": "stdout",
     "output_type": "stream",
     "text": [
      "Tests Passed\n"
     ]
    }
   ],
   "source": [
    "\n",
    "def build_cell(num_units, keep_prob = 1):\n",
    "    lstm = tf.contrib.rnn.BasicLSTMCell(num_units)\n",
    "    drop = tf.contrib.rnn.DropoutWrapper(lstm, output_keep_prob=keep_prob)\n",
    "\n",
    "    return drop\n",
    "\n",
    "def get_init_cell(batch_size, lstm_size, lstm_layers = 2):\n",
    "    \"\"\"\n",
    "    Create an RNN Cell and initialize it.\n",
    "    :param batch_size: Size of batches\n",
    "    :param rnn_size: Size of RNNs\n",
    "    :return: Tuple (cell, initialize state)\n",
    "    \"\"\"\n",
    "#     lstm = tf.contrib.rnn.BasicLSTMCell(lstm_size)\n",
    "    \n",
    "#     # Add dropout to the cell\n",
    "#     drop = tf.contrib.rnn.DropoutWrapper(lstm, output_keep_prob=0.6)\n",
    "    \n",
    "#     # Stack up multiple LSTM layers, for deep learning\n",
    "#     cell = tf.contrib.rnn.MultiRNNCell([drop] * lstm_layers)\n",
    "   \n",
    "\n",
    "    cell = tf.contrib.rnn.MultiRNNCell([build_cell(lstm_size, keep_prob = 1) for _ in range(lstm_layers)])\n",
    "    # Getting an initial state of all zeros\n",
    "    initial_ = cell.zero_state(batch_size, tf.float32)\n",
    "    initial_state = tf.identity(initial_, name = 'initial_state')\n",
    "    return cell, initial_state\n",
    "\n",
    "\n",
    "\"\"\"\n",
    "DON'T MODIFY ANYTHING IN THIS CELL THAT IS BELOW THIS LINE\n",
    "\"\"\"\n",
    "tests.test_get_init_cell(get_init_cell)"
   ]
  },
  {
   "cell_type": "markdown",
   "metadata": {},
   "source": [
    "### Word Embedding\n",
    "Apply embedding to `input_data` using TensorFlow.  Return the embedded sequence."
   ]
  },
  {
   "cell_type": "code",
   "execution_count": 19,
   "metadata": {},
   "outputs": [
    {
     "name": "stdout",
     "output_type": "stream",
     "text": [
      "Tests Passed\n"
     ]
    }
   ],
   "source": [
    "def get_embed(input_data, vocab_size, embed_dim):\n",
    "    \"\"\"\n",
    "    Create embedding for <input_data>.\n",
    "    :param input_data: TF placeholder for text input.\n",
    "    :param vocab_size: Number of words in vocabulary.\n",
    "    :param embed_dim: Number of embedding dimensions\n",
    "    :return: Embedded input.\n",
    "    \"\"\"\n",
    "    # TODO: Implement Function\n",
    "    embedding = tf.Variable(tf.random_uniform((vocab_size, embed_dim), -1, 1))\n",
    "    embed = tf.nn.embedding_lookup(embedding, input_data)\n",
    "    # TODO: Implement Function\n",
    "    return embed\n",
    "\n",
    "\n",
    "\"\"\"\n",
    "DON'T MODIFY ANYTHING IN THIS CELL THAT IS BELOW THIS LINE\n",
    "\"\"\"\n",
    "tests.test_get_embed(get_embed)"
   ]
  },
  {
   "cell_type": "markdown",
   "metadata": {},
   "source": [
    "### Build RNN\n",
    "You created a RNN Cell in the `get_init_cell()` function.  Time to use the cell to create a RNN.\n",
    "- Build the RNN using the [`tf.nn.dynamic_rnn()`](https://www.tensorflow.org/api_docs/python/tf/nn/dynamic_rnn)\n",
    " - Apply the name \"final_state\" to the final state using [`tf.identity()`](https://www.tensorflow.org/api_docs/python/tf/identity)\n",
    "\n",
    "Return the outputs and final_state state in the following tuple `(Outputs, FinalState)` "
   ]
  },
  {
   "cell_type": "code",
   "execution_count": 20,
   "metadata": {},
   "outputs": [
    {
     "name": "stdout",
     "output_type": "stream",
     "text": [
      "Tests Passed\n"
     ]
    }
   ],
   "source": [
    "def build_rnn(cell, inputs):\n",
    "    \"\"\"\n",
    "    Create a RNN using a RNN Cell\n",
    "    :param cell: RNN Cell\n",
    "    :param inputs: Input text data\n",
    "    :return: Tuple (Outputs, Final State)\n",
    "    \"\"\"\n",
    "    # TODO: Implement Function\n",
    "    outputs, fs = tf.nn.dynamic_rnn(cell, inputs, dtype=tf.float32)\n",
    "     \n",
    "    final_state = tf.identity(fs, name=\"final_state\")\n",
    "    return outputs, final_state\n",
    "\n",
    "\n",
    "\"\"\"\n",
    "DON'T MODIFY ANYTHING IN THIS CELL THAT IS BELOW THIS LINE\n",
    "\"\"\"\n",
    "tests.test_build_rnn(build_rnn)"
   ]
  },
  {
   "cell_type": "markdown",
   "metadata": {},
   "source": [
    "### Build the Neural Network\n",
    "Apply the functions you implemented above to:\n",
    "- Apply embedding to `input_data` using your `get_embed(input_data, vocab_size, embed_dim)` function.\n",
    "- Build RNN using `cell` and your `build_rnn(cell, inputs)` function.\n",
    "- Apply a fully connected layer with a linear activation and `vocab_size` as the number of outputs.\n",
    "\n",
    "Return the logits and final state in the following tuple (Logits, FinalState) "
   ]
  },
  {
   "cell_type": "code",
   "execution_count": 21,
   "metadata": {},
   "outputs": [
    {
     "name": "stdout",
     "output_type": "stream",
     "text": [
      "Tests Passed\n"
     ]
    }
   ],
   "source": [
    "def build_nn(cell, rnn_size, input_data, vocab_size, embed_dim):\n",
    "    \"\"\"\n",
    "    Build part of the neural network\n",
    "    :param cell: RNN cell\n",
    "    :param rnn_size: Size of rnns\n",
    "    :param input_data: Input data\n",
    "    :param vocab_size: Vocabulary size\n",
    "    :param embed_dim: Number of embedding dimensions\n",
    "    :return: Tuple (Logits, FinalState)\n",
    "    \"\"\"\n",
    "    # TODO: Implement Function\n",
    "    embed = get_embed(input_data, vocab_size, embed_dim)\n",
    "    outputs, final_state = build_rnn(cell, embed)\n",
    "    logits = tf.contrib.layers.fully_connected(outputs, vocab_size, activation_fn=None)\n",
    "\n",
    "    return logits, final_state\n",
    "\n",
    "\n",
    "\"\"\"\n",
    "DON'T MODIFY ANYTHING IN THIS CELL THAT IS BELOW THIS LINE\n",
    "\"\"\"\n",
    "tests.test_build_nn(build_nn)"
   ]
  },
  {
   "cell_type": "markdown",
   "metadata": {},
   "source": [
    "### Batches\n",
    "Implement `get_batches` to create batches of input and targets using `int_text`.  The batches should be a Numpy array with the shape `(number of batches, 2, batch size, sequence length)`. Each batch contains two elements:\n",
    "- The first element is a single batch of **input** with the shape `[batch size, sequence length]`\n",
    "- The second element is a single batch of **targets** with the shape `[batch size, sequence length]`\n",
    "\n",
    "If you can't fill the last batch with enough data, drop the last batch.\n",
    "\n",
    "For exmple, `get_batches([1, 2, 3, 4, 5, 6, 7, 8, 9, 10, 11, 12, 13, 14, 15, 16, 17, 18, 19, 20], 3, 2)` would return a Numpy array of the following:\n",
    "```\n",
    "[\n",
    "  # First Batch\n",
    "  [\n",
    "    # Batch of Input\n",
    "    [[ 1  2], [ 7  8], [13 14]]\n",
    "    # Batch of targets\n",
    "    [[ 2  3], [ 8  9], [14 15]]\n",
    "  ]\n",
    "\n",
    "  # Second Batch\n",
    "  [\n",
    "    # Batch of Input\n",
    "    [[ 3  4], [ 9 10], [15 16]]\n",
    "    # Batch of targets\n",
    "    [[ 4  5], [10 11], [16 17]]\n",
    "  ]\n",
    "\n",
    "  # Third Batch\n",
    "  [\n",
    "    # Batch of Input\n",
    "    [[ 5  6], [11 12], [17 18]]\n",
    "    # Batch of targets\n",
    "    [[ 6  7], [12 13], [18  1]]\n",
    "  ]\n",
    "]\n",
    "```\n",
    "\n",
    "Notice that the last target value in the last batch is the first input value of the first batch. In this case, `1`. This is a common technique used when creating sequence batches, although it is rather unintuitive."
   ]
  },
  {
   "cell_type": "code",
   "execution_count": 22,
   "metadata": {},
   "outputs": [
    {
     "name": "stdout",
     "output_type": "stream",
     "text": [
      "Tests Passed\n"
     ]
    }
   ],
   "source": [
    "def get_batches(int_text, batch_size, seq_length):\n",
    "    \"\"\"\n",
    "    Return batches of input and target\n",
    "    :param int_text: Text with the words replaced by their ids\n",
    "    :param batch_size: The size of batch\n",
    "    :param seq_length: The length of sequence\n",
    "    :return: Batches as a Numpy array\n",
    "    \"\"\"\n",
    "    # TODO: Implement Function\n",
    "    n_batches = int(len(int_text) / (batch_size*seq_length))\n",
    "    xdata = np.array(int_text[:n_batches*batch_size*seq_length])\n",
    "    ydata = np.roll(xdata,-1)\n",
    "    xbatches = np.split(xdata.reshape(batch_size, -1), n_batches, 1)\n",
    "    ybatches = np.split(ydata.reshape(batch_size, -1), n_batches, 1)\n",
    "    \n",
    "    return np.array(list(zip(xbatches, ybatches)))\n",
    "\n",
    "\n",
    "\"\"\"\n",
    "DON'T MODIFY ANYTHING IN THIS CELL THAT IS BELOW THIS LINE\n",
    "\"\"\"\n",
    "tests.test_get_batches(get_batches)"
   ]
  },
  {
   "cell_type": "markdown",
   "metadata": {},
   "source": [
    "## Neural Network Training\n",
    "### Hyperparameters\n",
    "Tune the following parameters:\n",
    "\n",
    "- Set `num_epochs` to the number of epochs.\n",
    "- Set `batch_size` to the batch size.\n",
    "- Set `rnn_size` to the size of the RNNs.\n",
    "- Set `embed_dim` to the size of the embedding.\n",
    "- Set `seq_length` to the length of sequence.\n",
    "- Set `learning_rate` to the learning rate.\n",
    "- Set `show_every_n_batches` to the number of batches the neural network should print progress."
   ]
  },
  {
   "cell_type": "code",
   "execution_count": 31,
   "metadata": {
    "collapsed": true
   },
   "outputs": [],
   "source": [
    "# Number of Epochs\n",
    "num_epochs = 130\n",
    "# Batch Size\n",
    "batch_size = 128\n",
    "# RNN Size\n",
    "rnn_size = 512\n",
    "# Embedding Dimension Size\n",
    "embed_dim = 300\n",
    "# Sequence Length\n",
    "seq_length = 20\n",
    "# Learning Rate\n",
    "learning_rate = 0.001\n",
    "# Show stats for every n number of batches\n",
    "show_every_n_batches = 20\n",
    "\n",
    "\"\"\"\n",
    "DON'T MODIFY ANYTHING IN THIS CELL THAT IS BELOW THIS LINE\n",
    "\"\"\"\n",
    "save_dir = './save'"
   ]
  },
  {
   "cell_type": "markdown",
   "metadata": {},
   "source": [
    "### Build the Graph\n",
    "Build the graph using the neural network you implemented."
   ]
  },
  {
   "cell_type": "code",
   "execution_count": 32,
   "metadata": {},
   "outputs": [],
   "source": [
    "\"\"\"\n",
    "DON'T MODIFY ANYTHING IN THIS CELL\n",
    "\"\"\"\n",
    "from tensorflow.contrib import seq2seq\n",
    "\n",
    "train_graph = tf.Graph()\n",
    "with train_graph.as_default():\n",
    "    vocab_size = len(int_to_vocab)\n",
    "    input_text, targets, lr = get_inputs()\n",
    "    input_data_shape = tf.shape(input_text)\n",
    "    cell, initial_state = get_init_cell(input_data_shape[0], rnn_size)\n",
    "    logits, final_state = build_nn(cell, rnn_size, input_text, vocab_size, embed_dim)\n",
    "\n",
    "    # Probabilities for generating words\n",
    "    probs = tf.nn.softmax(logits, name='probs')\n",
    "\n",
    "    # Loss function\n",
    "    cost = seq2seq.sequence_loss(\n",
    "        logits,\n",
    "        targets,\n",
    "        tf.ones([input_data_shape[0], input_data_shape[1]]))\n",
    "\n",
    "    # Optimizer\n",
    "    optimizer = tf.train.AdamOptimizer(lr)\n",
    "\n",
    "    # Gradient Clipping\n",
    "    gradients = optimizer.compute_gradients(cost)\n",
    "    capped_gradients = [(tf.clip_by_value(grad, -1., 1.), var) for grad, var in gradients if grad is not None]\n",
    "    train_op = optimizer.apply_gradients(capped_gradients)"
   ]
  },
  {
   "cell_type": "markdown",
   "metadata": {},
   "source": [
    "## Train\n",
    "Train the neural network on the preprocessed data.  If you have a hard time getting a good loss, check the [forums](https://discussions.udacity.com/) to see if anyone is having the same problem."
   ]
  },
  {
   "cell_type": "code",
   "execution_count": 33,
   "metadata": {},
   "outputs": [
    {
     "name": "stdout",
     "output_type": "stream",
     "text": [
      "Epoch   0 Batch    0/26   train_loss = 8.823\n",
      "Epoch   0 Batch   20/26   train_loss = 6.503\n",
      "Epoch   1 Batch   14/26   train_loss = 6.044\n",
      "Epoch   2 Batch    8/26   train_loss = 6.073\n",
      "Epoch   3 Batch    2/26   train_loss = 6.059\n",
      "Epoch   3 Batch   22/26   train_loss = 6.051\n",
      "Epoch   4 Batch   16/26   train_loss = 6.059\n",
      "Epoch   5 Batch   10/26   train_loss = 6.033\n",
      "Epoch   6 Batch    4/26   train_loss = 6.031\n",
      "Epoch   6 Batch   24/26   train_loss = 6.039\n",
      "Epoch   7 Batch   18/26   train_loss = 5.963\n",
      "Epoch   8 Batch   12/26   train_loss = 6.060\n",
      "Epoch   9 Batch    6/26   train_loss = 5.893\n",
      "Epoch  10 Batch    0/26   train_loss = 5.734\n",
      "Epoch  10 Batch   20/26   train_loss = 5.769\n",
      "Epoch  11 Batch   14/26   train_loss = 5.611\n",
      "Epoch  12 Batch    8/26   train_loss = 5.592\n",
      "Epoch  13 Batch    2/26   train_loss = 5.513\n",
      "Epoch  13 Batch   22/26   train_loss = 5.430\n",
      "Epoch  14 Batch   16/26   train_loss = 5.416\n",
      "Epoch  15 Batch   10/26   train_loss = 5.314\n",
      "Epoch  16 Batch    4/26   train_loss = 5.247\n",
      "Epoch  16 Batch   24/26   train_loss = 5.234\n",
      "Epoch  17 Batch   18/26   train_loss = 5.150\n",
      "Epoch  18 Batch   12/26   train_loss = 5.301\n",
      "Epoch  19 Batch    6/26   train_loss = 5.101\n",
      "Epoch  20 Batch    0/26   train_loss = 4.958\n",
      "Epoch  20 Batch   20/26   train_loss = 4.917\n",
      "Epoch  21 Batch   14/26   train_loss = 4.783\n",
      "Epoch  22 Batch    8/26   train_loss = 4.765\n",
      "Epoch  23 Batch    2/26   train_loss = 4.732\n",
      "Epoch  23 Batch   22/26   train_loss = 4.642\n",
      "Epoch  24 Batch   16/26   train_loss = 4.691\n",
      "Epoch  25 Batch   10/26   train_loss = 4.571\n",
      "Epoch  26 Batch    4/26   train_loss = 4.529\n",
      "Epoch  26 Batch   24/26   train_loss = 4.488\n",
      "Epoch  27 Batch   18/26   train_loss = 4.429\n",
      "Epoch  28 Batch   12/26   train_loss = 4.545\n",
      "Epoch  29 Batch    6/26   train_loss = 4.415\n",
      "Epoch  30 Batch    0/26   train_loss = 4.271\n",
      "Epoch  30 Batch   20/26   train_loss = 4.248\n",
      "Epoch  31 Batch   14/26   train_loss = 4.140\n",
      "Epoch  32 Batch    8/26   train_loss = 4.167\n",
      "Epoch  33 Batch    2/26   train_loss = 4.111\n",
      "Epoch  33 Batch   22/26   train_loss = 3.989\n",
      "Epoch  34 Batch   16/26   train_loss = 4.055\n",
      "Epoch  35 Batch   10/26   train_loss = 3.926\n",
      "Epoch  36 Batch    4/26   train_loss = 3.919\n",
      "Epoch  36 Batch   24/26   train_loss = 3.848\n",
      "Epoch  37 Batch   18/26   train_loss = 3.832\n",
      "Epoch  38 Batch   12/26   train_loss = 3.914\n",
      "Epoch  39 Batch    6/26   train_loss = 3.817\n",
      "Epoch  40 Batch    0/26   train_loss = 3.675\n",
      "Epoch  40 Batch   20/26   train_loss = 3.632\n",
      "Epoch  41 Batch   14/26   train_loss = 3.495\n",
      "Epoch  42 Batch    8/26   train_loss = 3.561\n",
      "Epoch  43 Batch    2/26   train_loss = 3.554\n",
      "Epoch  43 Batch   22/26   train_loss = 3.441\n",
      "Epoch  44 Batch   16/26   train_loss = 3.507\n",
      "Epoch  45 Batch   10/26   train_loss = 3.411\n",
      "Epoch  46 Batch    4/26   train_loss = 3.427\n",
      "Epoch  46 Batch   24/26   train_loss = 3.335\n",
      "Epoch  47 Batch   18/26   train_loss = 3.308\n",
      "Epoch  48 Batch   12/26   train_loss = 3.342\n",
      "Epoch  49 Batch    6/26   train_loss = 3.214\n",
      "Epoch  50 Batch    0/26   train_loss = 3.084\n",
      "Epoch  50 Batch   20/26   train_loss = 3.066\n",
      "Epoch  51 Batch   14/26   train_loss = 2.940\n",
      "Epoch  52 Batch    8/26   train_loss = 3.007\n",
      "Epoch  53 Batch    2/26   train_loss = 2.957\n",
      "Epoch  53 Batch   22/26   train_loss = 2.864\n",
      "Epoch  54 Batch   16/26   train_loss = 2.968\n",
      "Epoch  55 Batch   10/26   train_loss = 2.832\n",
      "Epoch  56 Batch    4/26   train_loss = 2.833\n",
      "Epoch  56 Batch   24/26   train_loss = 2.683\n",
      "Epoch  57 Batch   18/26   train_loss = 2.767\n",
      "Epoch  58 Batch   12/26   train_loss = 2.743\n",
      "Epoch  59 Batch    6/26   train_loss = 2.639\n",
      "Epoch  60 Batch    0/26   train_loss = 2.604\n",
      "Epoch  60 Batch   20/26   train_loss = 2.483\n",
      "Epoch  61 Batch   14/26   train_loss = 2.432\n",
      "Epoch  62 Batch    8/26   train_loss = 2.476\n",
      "Epoch  63 Batch    2/26   train_loss = 2.509\n",
      "Epoch  63 Batch   22/26   train_loss = 2.383\n",
      "Epoch  64 Batch   16/26   train_loss = 2.433\n",
      "Epoch  65 Batch   10/26   train_loss = 2.336\n",
      "Epoch  66 Batch    4/26   train_loss = 2.280\n",
      "Epoch  66 Batch   24/26   train_loss = 2.147\n",
      "Epoch  67 Batch   18/26   train_loss = 2.147\n",
      "Epoch  68 Batch   12/26   train_loss = 2.152\n",
      "Epoch  69 Batch    6/26   train_loss = 2.061\n",
      "Epoch  70 Batch    0/26   train_loss = 2.018\n",
      "Epoch  70 Batch   20/26   train_loss = 1.918\n",
      "Epoch  71 Batch   14/26   train_loss = 1.896\n",
      "Epoch  72 Batch    8/26   train_loss = 1.953\n",
      "Epoch  73 Batch    2/26   train_loss = 1.982\n",
      "Epoch  73 Batch   22/26   train_loss = 1.866\n",
      "Epoch  74 Batch   16/26   train_loss = 1.893\n",
      "Epoch  75 Batch   10/26   train_loss = 1.849\n",
      "Epoch  76 Batch    4/26   train_loss = 1.775\n",
      "Epoch  76 Batch   24/26   train_loss = 1.657\n",
      "Epoch  77 Batch   18/26   train_loss = 1.684\n",
      "Epoch  78 Batch   12/26   train_loss = 1.700\n",
      "Epoch  79 Batch    6/26   train_loss = 1.645\n",
      "Epoch  80 Batch    0/26   train_loss = 1.607\n",
      "Epoch  80 Batch   20/26   train_loss = 1.562\n",
      "Epoch  81 Batch   14/26   train_loss = 1.520\n",
      "Epoch  82 Batch    8/26   train_loss = 1.565\n",
      "Epoch  83 Batch    2/26   train_loss = 1.559\n",
      "Epoch  83 Batch   22/26   train_loss = 1.525\n",
      "Epoch  84 Batch   16/26   train_loss = 1.585\n",
      "Epoch  85 Batch   10/26   train_loss = 1.461\n",
      "Epoch  86 Batch    4/26   train_loss = 1.457\n",
      "Epoch  86 Batch   24/26   train_loss = 1.386\n",
      "Epoch  87 Batch   18/26   train_loss = 1.343\n",
      "Epoch  88 Batch   12/26   train_loss = 1.342\n",
      "Epoch  89 Batch    6/26   train_loss = 1.289\n",
      "Epoch  90 Batch    0/26   train_loss = 1.264\n",
      "Epoch  90 Batch   20/26   train_loss = 1.112\n",
      "Epoch  91 Batch   14/26   train_loss = 1.109\n",
      "Epoch  92 Batch    8/26   train_loss = 1.082\n",
      "Epoch  93 Batch    2/26   train_loss = 1.116\n",
      "Epoch  93 Batch   22/26   train_loss = 1.027\n",
      "Epoch  94 Batch   16/26   train_loss = 1.103\n",
      "Epoch  95 Batch   10/26   train_loss = 1.018\n",
      "Epoch  96 Batch    4/26   train_loss = 0.975\n",
      "Epoch  96 Batch   24/26   train_loss = 0.935\n",
      "Epoch  97 Batch   18/26   train_loss = 0.978\n",
      "Epoch  98 Batch   12/26   train_loss = 0.972\n",
      "Epoch  99 Batch    6/26   train_loss = 0.959\n",
      "Epoch 100 Batch    0/26   train_loss = 0.989\n",
      "Epoch 100 Batch   20/26   train_loss = 0.885\n",
      "Epoch 101 Batch   14/26   train_loss = 0.892\n",
      "Epoch 102 Batch    8/26   train_loss = 0.912\n",
      "Epoch 103 Batch    2/26   train_loss = 0.935\n",
      "Epoch 103 Batch   22/26   train_loss = 0.804\n",
      "Epoch 104 Batch   16/26   train_loss = 0.900\n",
      "Epoch 105 Batch   10/26   train_loss = 0.831\n",
      "Epoch 106 Batch    4/26   train_loss = 0.818\n",
      "Epoch 106 Batch   24/26   train_loss = 0.808\n",
      "Epoch 107 Batch   18/26   train_loss = 0.863\n",
      "Epoch 108 Batch   12/26   train_loss = 0.832\n",
      "Epoch 109 Batch    6/26   train_loss = 0.737\n",
      "Epoch 110 Batch    0/26   train_loss = 0.735\n",
      "Epoch 110 Batch   20/26   train_loss = 0.625\n",
      "Epoch 111 Batch   14/26   train_loss = 0.621\n",
      "Epoch 112 Batch    8/26   train_loss = 0.611\n",
      "Epoch 113 Batch    2/26   train_loss = 0.658\n",
      "Epoch 113 Batch   22/26   train_loss = 0.590\n",
      "Epoch 114 Batch   16/26   train_loss = 0.682\n",
      "Epoch 115 Batch   10/26   train_loss = 0.611\n",
      "Epoch 116 Batch    4/26   train_loss = 0.561\n",
      "Epoch 116 Batch   24/26   train_loss = 0.537\n",
      "Epoch 117 Batch   18/26   train_loss = 0.545\n",
      "Epoch 118 Batch   12/26   train_loss = 0.563\n",
      "Epoch 119 Batch    6/26   train_loss = 0.551\n",
      "Epoch 120 Batch    0/26   train_loss = 0.555\n",
      "Epoch 120 Batch   20/26   train_loss = 0.520\n",
      "Epoch 121 Batch   14/26   train_loss = 0.465\n",
      "Epoch 122 Batch    8/26   train_loss = 0.541\n",
      "Epoch 123 Batch    2/26   train_loss = 0.532\n",
      "Epoch 123 Batch   22/26   train_loss = 0.462\n",
      "Epoch 124 Batch   16/26   train_loss = 0.532\n",
      "Epoch 125 Batch   10/26   train_loss = 0.465\n",
      "Epoch 126 Batch    4/26   train_loss = 0.426\n",
      "Epoch 126 Batch   24/26   train_loss = 0.378\n",
      "Epoch 127 Batch   18/26   train_loss = 0.404\n",
      "Epoch 128 Batch   12/26   train_loss = 0.394\n",
      "Epoch 129 Batch    6/26   train_loss = 0.388\n",
      "Model Trained and Saved\n"
     ]
    }
   ],
   "source": [
    "\"\"\"\n",
    "DON'T MODIFY ANYTHING IN THIS CELL\n",
    "\"\"\"\n",
    "batches = get_batches(int_text, batch_size, seq_length)\n",
    "\n",
    "with tf.Session(graph=train_graph) as sess:\n",
    "    sess.run(tf.global_variables_initializer())\n",
    "\n",
    "    for epoch_i in range(num_epochs):\n",
    "        state = sess.run(initial_state, {input_text: batches[0][0]})\n",
    "\n",
    "        for batch_i, (x, y) in enumerate(batches):\n",
    "            feed = {\n",
    "                input_text: x,\n",
    "                targets: y,\n",
    "                initial_state: state,\n",
    "                lr: learning_rate}\n",
    "            train_loss, state, _ = sess.run([cost, final_state, train_op], feed)\n",
    "\n",
    "            # Show every <show_every_n_batches> batches\n",
    "            if (epoch_i * len(batches) + batch_i) % show_every_n_batches == 0:\n",
    "                print('Epoch {:>3} Batch {:>4}/{}   train_loss = {:.3f}'.format(\n",
    "                    epoch_i,\n",
    "                    batch_i,\n",
    "                    len(batches),\n",
    "                    train_loss))\n",
    "\n",
    "    # Save Model\n",
    "    saver = tf.train.Saver()\n",
    "    saver.save(sess, save_dir)\n",
    "    print('Model Trained and Saved')"
   ]
  },
  {
   "cell_type": "markdown",
   "metadata": {},
   "source": [
    "## Save Parameters\n",
    "Save `seq_length` and `save_dir` for generating a new TV script."
   ]
  },
  {
   "cell_type": "code",
   "execution_count": 34,
   "metadata": {
    "collapsed": true
   },
   "outputs": [],
   "source": [
    "\"\"\"\n",
    "DON'T MODIFY ANYTHING IN THIS CELL\n",
    "\"\"\"\n",
    "# Save parameters for checkpoint\n",
    "helper.save_params((seq_length, save_dir))"
   ]
  },
  {
   "cell_type": "markdown",
   "metadata": {},
   "source": [
    "# Checkpoint"
   ]
  },
  {
   "cell_type": "code",
   "execution_count": 35,
   "metadata": {
    "collapsed": true
   },
   "outputs": [],
   "source": [
    "\"\"\"\n",
    "DON'T MODIFY ANYTHING IN THIS CELL\n",
    "\"\"\"\n",
    "import tensorflow as tf\n",
    "import numpy as np\n",
    "import helper\n",
    "import problem_unittests as tests\n",
    "\n",
    "_, vocab_to_int, int_to_vocab, token_dict = helper.load_preprocess()\n",
    "seq_length, load_dir = helper.load_params()"
   ]
  },
  {
   "cell_type": "markdown",
   "metadata": {},
   "source": [
    "## Implement Generate Functions\n",
    "### Get Tensors\n",
    "Get tensors from `loaded_graph` using the function [`get_tensor_by_name()`](https://www.tensorflow.org/api_docs/python/tf/Graph#get_tensor_by_name).  Get the tensors using the following names:\n",
    "- \"input:0\"\n",
    "- \"initial_state:0\"\n",
    "- \"final_state:0\"\n",
    "- \"probs:0\"\n",
    "\n",
    "Return the tensors in the following tuple `(InputTensor, InitialStateTensor, FinalStateTensor, ProbsTensor)` "
   ]
  },
  {
   "cell_type": "code",
   "execution_count": 36,
   "metadata": {},
   "outputs": [
    {
     "name": "stdout",
     "output_type": "stream",
     "text": [
      "Tests Passed\n"
     ]
    }
   ],
   "source": [
    "def get_tensors(loaded_graph):\n",
    "    \"\"\"\n",
    "    Get input, initial state, final state, and probabilities tensor from <loaded_graph>\n",
    "    :param loaded_graph: TensorFlow graph loaded from file\n",
    "    :return: Tuple (InputTensor, InitialStateTensor, FinalStateTensor, ProbsTensor)\n",
    "    \"\"\"\n",
    "    # TODO: Implement Function\n",
    "    input_tensor = loaded_graph.get_tensor_by_name(\"input:0\")\n",
    "    initial_state_tensor = loaded_graph.get_tensor_by_name(\"initial_state:0\") \n",
    "    final_state_tensor = loaded_graph.get_tensor_by_name(\"final_state:0\") \n",
    "    probs_tensor = loaded_graph.get_tensor_by_name(\"probs:0\")\n",
    "    return input_tensor, initial_state_tensor, final_state_tensor, probs_tensor\n",
    "\n",
    "\n",
    "\"\"\"\n",
    "DON'T MODIFY ANYTHING IN THIS CELL THAT IS BELOW THIS LINE\n",
    "\"\"\"\n",
    "tests.test_get_tensors(get_tensors)"
   ]
  },
  {
   "cell_type": "markdown",
   "metadata": {},
   "source": [
    "### Choose Word\n",
    "Implement the `pick_word()` function to select the next word using `probabilities`."
   ]
  },
  {
   "cell_type": "code",
   "execution_count": 38,
   "metadata": {},
   "outputs": [
    {
     "name": "stdout",
     "output_type": "stream",
     "text": [
      "Tests Passed\n"
     ]
    }
   ],
   "source": [
    "import random\n",
    "def pick_word(probabilities, int_to_vocab):\n",
    "    \"\"\"\n",
    "    Pick the next word in the generated text\n",
    "    :param probabilities: Probabilites of the next word\n",
    "    :param int_to_vocab: Dictionary of word ids as the keys and words as the values\n",
    "    :return: String of the predicted word\n",
    "    \"\"\"\n",
    "    # TODO: Implement Function\n",
    "    random_num = random.uniform(0, 1.0)\n",
    "    cum_prob = 0\n",
    "    for i, word in enumerate(int_to_vocab):\n",
    "        cum_prob += probabilities[i]\n",
    "        if (random_num <= cum_prob):\n",
    "            break\n",
    "            \n",
    "    return int_to_vocab[word]\n",
    "\n",
    "\n",
    "\"\"\"\n",
    "DON'T MODIFY ANYTHING IN THIS CELL THAT IS BELOW THIS LINE\n",
    "\"\"\"\n",
    "tests.test_pick_word(pick_word)"
   ]
  },
  {
   "cell_type": "markdown",
   "metadata": {},
   "source": [
    "## Generate TV Script\n",
    "This will generate the TV script for you.  Set `gen_length` to the length of TV script you want to generate."
   ]
  },
  {
   "cell_type": "code",
   "execution_count": 40,
   "metadata": {},
   "outputs": [
    {
     "name": "stdout",
     "output_type": "stream",
     "text": [
      "INFO:tensorflow:Restoring parameters from ./save\n",
      "moe_szyslak:(while poking, friendly) so, hey, did you see the game last night?\n",
      "\n",
      "\n",
      "barney_gumble: here you get a little idea, two fellow girl?\n",
      "homer_simpson:(tipsy) huhza? you're the way!\n",
      "\n",
      "\n",
      "moe_szyslak: moe, you really doin' a drink! we're been out of one next after this place like a long bit.\n",
      "moe_szyslak: i had that straight, barney, we'll get rid.\n",
      "moe_szyslak: because i prettied up the alcohol for this place, ladies. people like your daughter found a new he shouldn't put.\n",
      "kemi: i don't do that i've got once that i'm a million of your last.(reading\" another face man)...(perverted noise)\n",
      "homer_simpson: no, that was a party drunk i'd stick drinkin' play.\n",
      "warm_female_voice: not mad, local heaven.(belch)\n",
      "\n",
      "\n",
      "moe_szyslak: hey, homer. the answer now is we love they're, or people?\n",
      "\n",
      "\n",
      "moe_szyslak: no doubt i decide. today's the bar, jer. not mines? if you can liven it up, but i put up any back.\n",
      "moe_szyslak: don't make a little under right?\n",
      "moe_szyslak: good times, gimme this and being sits out any way because you've got a sandwich. and whatever.\n",
      "ken: geez there, krusty. we're forecast is: the alcohol accident?\n",
      "lisa_simpson: oh, you did him a woman. this?\n",
      "homer_simpson: marge simpson! / moe me-- / there's a flaming moe.\n",
      "teenage_barney: i got all--\n",
      "adult_bart: aren't my car!\n",
      "homer_simpson: moe.\n",
      "barney_gumble: hey, will you? that long actually taken nuts.\n",
      "homer_simpson: oh, i'm a coupon(singing) talk theatah you in the zeal.\n",
      "barney_gumble: i'm right.\n",
      "kirk_van_houten: i'd need a jerk.\n",
      "barney_gumble: moe.\n",
      "man: i'm a little idea! no more cries about\n",
      "barney_gumble: you mean good to me.\n",
      "\n",
      "\n",
      "homer_simpson:(tipsy) why, you're talkin' about. you got wrong.\n",
      "moe_szyslak:(kindly) nigeria...\n",
      "marge_simpson: huh.\n",
      "marge_simpson:(then) gee, i'm looking for childless fight...(sings) unlike half-beer.\n",
      "moe_szyslak: letter... that's right? that's terminated for all the one day of marge?\n",
      "lisa_simpson: i already or--\n",
      "barney_gumble: be it was like a very eye? couple.\n",
      "\n",
      "\n",
      "moe_szyslak: with the other problem. look at a hold of you, roz, cool out on his face?\n",
      "carl_carlson: don't... what can you made me looked to.\n",
      "waylon_smithers: at me.\n",
      "seymour_skinner: that can really offer those advice winnings.\n",
      "jacques: so i see, but i-- well, you're gonna be deacon to hurt me.\n",
      "homer_simpson: then, all right... the inherent advice.\n",
      "moe_szyslak: hey, hey, hey, a chase here our drive?\n",
      "\n",
      "\n",
      "moe_szyslak: yeah, you're drunk, as something for a dead thing about an bobo?\n",
      "homer_simpson: how about anyone?\n",
      "kent_brockman: dateline: tonight you need in a special time no, the dank!\n",
      "homer_simpson: you stole my family!\n",
      "homer_simpson:\" my problem! we got light dollars for me.\n",
      "moe_szyslak: yeah, i'm gonna cost ya without these! i'm gonna take these flowers!\n",
      "homer_simpson: eight times.\n",
      "homer_simpson:(gasps) look over...\n",
      "marge_simpson:(sings) part.\n",
      "\n",
      "\n",
      "homer_simpson: sorry.\n",
      "jacques: it was two by moe.\n",
      "jacques: so i give something our secret wells idea i've been much.\n",
      "carl_carlson: look at this-- i never wish.\n",
      "waylon_smithers: i want you in a dog for the\" flaming homer\".\n",
      "moe_szyslak: plastic, i'm glad you keep back at the bar, who are that's a college decide.\n",
      "bart_simpson: yeah, i'd like a coaster.\n",
      "\n",
      "\n",
      "marge_simpson: so, i'm not alone, we went home with my aggie, boys. you've prolonged this grim that when you're all here, you're terrific.\n",
      "homer_simpson: thanks guys.\n",
      "stillwater: this was the sugar all i have to be try for a computer.\n",
      "waylon_smithers: treasure? i'm liable, two kid hotline.\n",
      "homer_simpson: to right.\n",
      "apu_nahasapeemapetilon: now again-- let me die, marge.\n",
      "walther_hotenhoffer: my god, or never lie.\n",
      "carl_carlson: hey, hey, hey, shut up!\n",
      "chief_wiggum: homer, how's your hands off my buffet bones\n",
      "seymour_skinner: ooh?\n",
      "chief_wiggum:(warmly) soon, it was one long who reasonable.\n",
      "kent_brockman: this is trouble. you didn't talk like you're them for all the best entertainer in the world now he's the world, albeit / now can't be life?\n",
      "homer_simpson: uh-oh. you need your graves. i am so needy. like you see change the way.\n",
      "homer_simpson: what do i just like this. move the way, but i'm gonna do.\n",
      "moe_szyslak: oh, what i say that uh...\n",
      "c. _montgomery_burns: yes. help me watered-down play 'em. hand?\n",
      "lisa_simpson: i don't need another writers. hope.\n",
      "\n",
      "\n",
      "moe_szyslak:(nervous chuckle) okay, i'd be cool loaded any head.\n",
      "warm_female_voice:(kindly)\n",
      "dr. princess yeah! work twelve for be so time. all except for the bar with a low-life, you're a son, i ain't always women drinkin' on night of your best.\n",
      "\n",
      "\n",
      "homer_simpson: i can't talk now-- they're full of his son's friends. do i ask care back to lisa!\n",
      "homer_simpson: oh, you should not remember to my only.\n",
      "moe_szyslak: aw, how can i find the bank but the paint would like. is the best young door.\n",
      "moe_szyslak: no, this was, he'd have livin' with you, someone about light swear to you.\n",
      "moe_szyslak: shut up.\n",
      "\n",
      "\n",
      "homer_simpson: you can try that i don't wanna try.\n",
      "homer_simpson: i'm gonna get them in the bars(very man)\n",
      "homer_simpson: number of it, no matter aren't springfield at my girlfriend back when it takes in daddy, huh? what the big mean return... mom...\n",
      "carl_carlson: yeah, okay, like like here like lenny.\n",
      "\n",
      "\n",
      "moe_szyslak:(sings) really about my wife? does that mean about a friend...\n",
      "\n",
      "\n",
      "\n",
      "marge_simpson:(trying to nobel moan) all right, barney. that's here's there.\n",
      "carl_carlson: wow! help me.\n",
      "moe_szyslak: well, i don't look nervous. nobody had this?\n",
      "carl_carlson: hey, don't worry.\n",
      "jacques: at on my face?\n",
      "fox_mulder: sure after barney high.\n",
      "kirk_van_houten: i was the pope who are not for a woman. pick 'em in all right!\n",
      "\n",
      "\n",
      "homer_simpson: refund to the bank all right. no day i can sell money, money because when i don't even suck, but just ran out by high / that's him.\n",
      "dr. nice well, i say, uh... princess, abe is hand close today-- we'll make your love backwards of springfield.\n",
      "grampa_simpson: is your daughter, all this was like a rough day.\n",
      "really he us america up...\n",
      "homer_simpson: hm...\n",
      "moe_szyslak: what? you're going to take a tough a butts?\n",
      "homer_simpson: barney, i will myself one world?\n",
      "moe_szyslak: oh, listen your minute that's one of them drink.\n",
      "moe_szyslak: hey, are you man a little weird.\n",
      "homer_simpson: aww.\n",
      "bart_simpson: smells in you see our house, or things is spend the school home crystal a day.\n",
      "dr. _hooper: you sure if you got turn every private lookin' medieval play. you've gotta get her your tongue.\n",
      "homer_simpson: we've got talk from the rough\n",
      "moe_szyslak: look to you see fun--(looks at the suicide box)\n",
      "moe_szyslak: i can't right-- but these--\n",
      "ken: no who isn't lenny.\n",
      "homer_simpson: aww.\n",
      "\n",
      "\n",
      "homer_simpson: quick, moe. careful now i play him.\n",
      "homer_simpson: moe, i see nothin' very good.\n",
      "carl_carlson: here you get any fish a homer_... well, who's a time.\n",
      "moe_szyslak: yeah, here you do?\n",
      "barney_gumble: hey, i'm just needed to tell you youse..\n",
      "coach: yeah?\n",
      "homer_simpson:(inanely) yeah, dear kids! lisa! how holding him a paint.\n",
      "moe_szyslak: hey, homer, i just take the real jukebox?\n",
      "barney_gumble: oh.\n",
      "man: i don't wish.\n",
      "barney_gumble: sure was your guy.\n",
      "\n",
      "\n",
      "moe_szyslak: i homer_simpson: what if you see down on here. first robin magic that he made any world.\n",
      "moe_szyslak: oh, right-- i couldn't put this... a time on the town?\n",
      "moe_szyslak: no character, everybody are where come into all form people-- another million of other people to bring me his list of all the diet being once?\n",
      "homer_simpson: yeah. can do it love it.\n",
      "kemi: i do?\n",
      "chief_wiggum: well, i'm looking for our family.\n",
      "moe_szyslak: hey, hey, are you back a lot before isn't gone to do.\n",
      "keep this was, in it wasn't for the bank...\n",
      "homer_simpson:(to moe) just are back here?\n",
      "\n",
      "\n",
      "homer_simpson:(scared) have too much lookin' on? i can't remember that you keep a child.\n",
      "nfl_narrator:.!\n",
      "barney_gumble: hey, take it for women, 'cause then i have not all the new face now a school, by his bauer sense time.\n",
      "homer_simpson: not that is that people.\n",
      "barney_gumble:(short glass) moe, you seen a great payday still...\n",
      "\n",
      "\n",
      "moe_szyslak: eh, you tell anything filthy advice money those he married my life?\n",
      "homer_simpson: oh, can i couldn't hang down with the outside getup, mayor like this!\n",
      "homer_simpson: right?\n",
      "coach: don't like my time!\n",
      "\n",
      "\n",
      "homer_simpson: and careful!\n",
      "professor_jonathan_frink: hello, now you're the problem, homer.\n",
      "homer_simpson: what's the expression?\n",
      "carl_carlson: woo? what are you still take me on the world-- that's why the rest of this won't ever are today.\n",
      "moe_szyslak: not really that till you're sittin' on their every i'd play behind my new man from drive the inherent ointment.\n",
      "lenny_leonard: no, i'm not, but i'm gonna check it.(gags, dear new prank laughing) i ain't not ruined.\n",
      "\n",
      "\n",
      "\n"
     ]
    }
   ],
   "source": [
    "gen_length = 2000\n",
    "# homer_simpson, moe_szyslak, or Barney_Gumble\n",
    "prime_word = 'moe_szyslak'\n",
    "\n",
    "\"\"\"\n",
    "DON'T MODIFY ANYTHING IN THIS CELL THAT IS BELOW THIS LINE\n",
    "\"\"\"\n",
    "loaded_graph = tf.Graph()\n",
    "with tf.Session(graph=loaded_graph) as sess:\n",
    "    # Load saved model\n",
    "    loader = tf.train.import_meta_graph(load_dir + '.meta')\n",
    "    loader.restore(sess, load_dir)\n",
    "\n",
    "    # Get Tensors from loaded model\n",
    "    input_text, initial_state, final_state, probs = get_tensors(loaded_graph)\n",
    "\n",
    "    # Sentences generation setup\n",
    "    gen_sentences = [prime_word + ':']\n",
    "    prev_state = sess.run(initial_state, {input_text: np.array([[1]])})\n",
    "\n",
    "    # Generate sentences\n",
    "    for n in range(gen_length):\n",
    "        # Dynamic Input\n",
    "        dyn_input = [[vocab_to_int[word] for word in gen_sentences[-seq_length:]]]\n",
    "        dyn_seq_length = len(dyn_input[0])\n",
    "\n",
    "        # Get Prediction\n",
    "        probabilities, prev_state = sess.run(\n",
    "            [probs, final_state],\n",
    "            {input_text: dyn_input, initial_state: prev_state})\n",
    "        \n",
    "        pred_word = pick_word(probabilities[dyn_seq_length-1], int_to_vocab)\n",
    "\n",
    "        gen_sentences.append(pred_word)\n",
    "    \n",
    "    # Remove tokens\n",
    "    tv_script = ' '.join(gen_sentences)\n",
    "    for key, token in token_dict.items():\n",
    "        ending = ' ' if key in ['\\n', '(', '\"'] else ''\n",
    "        tv_script = tv_script.replace(' ' + token.lower(), key)\n",
    "    tv_script = tv_script.replace('\\n ', '\\n')\n",
    "    tv_script = tv_script.replace('( ', '(')\n",
    "        \n",
    "    print(tv_script)"
   ]
  },
  {
   "cell_type": "markdown",
   "metadata": {},
   "source": [
    "# The TV Script is Nonsensical\n",
    "It's ok if the TV script doesn't make any sense.  We trained on less than a megabyte of text.  In order to get good results, you'll have to use a smaller vocabulary or get more data.  Luckly there's more data!  As we mentioned in the begging of this project, this is a subset of [another dataset](https://www.kaggle.com/wcukierski/the-simpsons-by-the-data).  We didn't have you train on all the data, because that would take too long.  However, you are free to train your neural network on all the data.  After you complete the project, of course.\n",
    "# Submitting This Project\n",
    "When submitting this project, make sure to run all the cells before saving the notebook. Save the notebook file as \"dlnd_tv_script_generation.ipynb\" and save it as a HTML file under \"File\" -> \"Download as\". Include the \"helper.py\" and \"problem_unittests.py\" files in your submission."
   ]
  }
 ],
 "metadata": {
  "kernelspec": {
   "display_name": "Python 3",
   "language": "python",
   "name": "python3"
  },
  "language_info": {
   "codemirror_mode": {
    "name": "ipython",
    "version": 3
   },
   "file_extension": ".py",
   "mimetype": "text/x-python",
   "name": "python",
   "nbconvert_exporter": "python",
   "pygments_lexer": "ipython3",
   "version": "3.5.3"
  },
  "widgets": {
   "state": {},
   "version": "1.1.2"
  }
 },
 "nbformat": 4,
 "nbformat_minor": 1
}
